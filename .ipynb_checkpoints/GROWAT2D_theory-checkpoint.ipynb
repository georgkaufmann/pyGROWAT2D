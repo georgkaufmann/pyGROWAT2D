{
 "cells": [
  {
   "cell_type": "markdown",
   "id": "383108c6",
   "metadata": {},
   "source": [
    "<table>\n",
    "<tr><td><img style=\"height: 150px;\" src=\"images/geo_hydro1.jpg\"></td>\n",
    "<td bgcolor=\"#FFFFFF\">\n",
    "    <p style=\"font-size: xx-large; font-weight: 900; line-height: 100%\">pyGROWAT2D</p>\n",
    "    <p style=\"font-size: large; color: rgba(0,0,0,0.5);\"><b style=color:red;>GRO</b>und<b style=color:red;>WAT</b>er</p>\n",
    "    <p style=\"font-size: large; color: rgba(0,0,0,0.5);\">Georg Kaufmann</p>\n",
    "    </td>\n",
    "<td><img style=\"height: 150px;\" src=\"images/pyGROWAT2D.png\"></td>\n",
    "</tr>\n",
    "</table>\n",
    "\n",
    "----\n",
    "# `pyGROWAT2D`\n",
    "\n",
    "GROundWATer2D, a program package for flow in porous rocks."
   ]
  },
  {
   "cell_type": "markdown",
   "id": "4d75e355-4eda-4a6a-8a9e-45a296432e4a",
   "metadata": {},
   "source": [
    "----\n",
    "## Darcy-flow equation\n",
    "\n",
    "The Darcy-flow equation describes **macroscopic flow** in a porous aquifer, which can be derived by averaging over the \n",
    "Navier-Stokes equation.\n",
    "\n",
    "We derive the Darcy-flow equation from the following equations:\n",
    "\n",
    "## Equation of motion\n",
    "The **equation of motion** describes the velocity induced by surface and/or body forces:\n",
    "$$\\fbox{$\n",
    "\\rho \\frac{\\partial \\vec{u}}{\\partial t}\n",
    "+ \\rho \\left( \\vec{u} \\cdot \\nabla \\right) \\vec{u}\n",
    "= \\nabla \\cdot \\bar{\\sigma}\n",
    "- \\rho \\vec{g}\n",
    "$}$$\n",
    "with:\n",
    "- $\\rho$ [kg/m$^3$] density,\n",
    "- $\\vec{u}$ [m/s] velocity,\n",
    "- $t$ [s] time,\n",
    "- $\\nabla$ [1/m] Nabla operator,\n",
    "- $\\mathbb{\\sigma}$ [Pa] Cauchy stress tensor,\n",
    "- $\\vec{g}$ [m/s] gravitational acceleration."
   ]
  },
  {
   "cell_type": "markdown",
   "id": "94f3473e-fc85-442a-908c-5b90f795f5f1",
   "metadata": {},
   "source": [
    "## Mass-conservation equation\n",
    "The **mass-conservation equation** describes the continuity of mass:\n",
    "$$\\fbox{$\n",
    "\\frac{\\partial \\rho}{\\partial t}\n",
    "+ \\nabla \\cdot \\left( \\rho \\vec{u} \\right) \n",
    "= 0\n",
    "$}$$\n",
    "with:\n",
    "- $\\rho$ [kg/m$^3$] density,\n",
    "- $\\vec{u}$ [m/s] velocity,\n",
    "- $t$ [s] time,\n",
    "- $\\nabla$ [1/m] Nabla operator."
   ]
  },
  {
   "cell_type": "markdown",
   "id": "b0b5c127-1fa8-496a-8a6c-79221494f4f1",
   "metadata": {},
   "source": [
    "## Stress tensor and strain-rate tensor\n",
    "The **Cauchy stress tensor** is defined as:\n",
    "$$\\fbox{$\n",
    "\\mathbb{\\sigma} = -p \\mathbb{1} + 2 \\eta \\dot{\\mathbb{\\epsilon}} \n",
    "$}$$\n",
    "with:\n",
    "- $p$ [Pa] pressure,\n",
    "- $\\eta$ [Pas] dynamic viscosity,\n",
    "- $\\dot{\\mathbb{\\epsilon}}$ [1/s] strain-rate tensor,\n",
    "- $\\mathbb{1}$ [-] the unity tensor.\n",
    "\n",
    "The **strain-rate tensor** is defined as:\n",
    "$$\\fbox{$\n",
    "\\dot{\\mathbb{\\epsilon}} = \\frac{1}{2} \\left[ \\nabla \\vec{u} + (\\nabla \\vec{u})^T \\right]\n",
    "$}$$\n",
    "with:\n",
    "- $\\vec{u}$ [m/s] velocity."
   ]
  },
  {
   "cell_type": "markdown",
   "id": "5c5b31a7-8af7-4f06-88f1-7805059ad53c",
   "metadata": {
    "tags": []
   },
   "source": [
    "----\n",
    "## Navier-Stokes equation\n",
    "\n",
    "Combining the equation of motion, Cauchy stress and strain-rate, we arrive at the \n",
    "**Navier-Stokes equation** for a viscous fluid:\n",
    "$$\\fbox{$\n",
    "\\rho \\frac{\\partial \\vec{u}}{\\partial t}\n",
    "+ \\rho \\left( \\vec{u} \\cdot \\nabla \\right) \\vec{u}\n",
    "= - \\nabla p\n",
    "+ \\eta \\Delta \\vec{u}\n",
    "- \\rho \\vec{g}\n",
    "$}$$"
   ]
  },
  {
   "cell_type": "markdown",
   "id": "c26f2bcd-2b2d-4f72-903e-5d3acbee4b05",
   "metadata": {},
   "source": [
    "----\n",
    "## Pipe-flow model\n",
    "We describe flow through pore spaces or fissures with a simple circular pipe-flow model:\n",
    "\n",
    "<img src=\"images/poiseuille_flow.jpg\" style=\"width:12cm;\">\n",
    "\n",
    "The circular pipe of defined length $l$ [m] has a given cross-sectional area $A$ [m$^2$], and flow is driven\n",
    "by a pressure difference, with high pressure, $p+dp$ [Pa] on the left, and low pressure $p$ on the right side.\n",
    "We define a cylindrical coordinate system, with the $z$-axis in flow direction and the $r$-axis perpendicular to\n",
    "flow, and employ the Navier-Stokes equation  in a simplified form: \n",
    "- We assume stationary flow (${{\\partial \\vec{u}} \\over {\\partial t}}=0$), \n",
    "- and we neglect both the advective and the gravitional terms, $\\rho (\\vec{u} \\cdot \\nabla) \\vec{u}=0$ and $\\rho g=0$:\n",
    "$$\n",
    "\\nabla p =\n",
    "\\eta \\Delta \\vec{u}\n",
    "$$\n",
    "\n",
    "From the three equation stated above, we use the derivative in $z$-direction, as the pressure gradient is only in the $z$-direction,\n",
    "and we rewrite the Laplacian operator of the vectorial velocity $u_i$ with the corresponding term:\n",
    "$$\n",
    "   \\frac{\\partial^2 u_z}{\\partial r^2}\n",
    " + \\frac{1}{r} \\frac{\\partial^2 u_z}{\\partial \\Phi^2}\n",
    " + \\frac{\\partial^2 u_z}{\\partial z^2}\n",
    " + \\frac{1}{r} \\frac{\\partial u_z}{\\partial r}\n",
    " = \\frac{1}{\\eta} \\frac{\\partial p}{\\partial z}\n",
    "$$\n",
    "with $(r,z,\\Phi)^T$ the coordinates given in the cylindrical coordinate system.\n",
    "As the fluid velocity component $u_z$ only depends on $r$, two of the four derivatives on the right-hand side\n",
    "vanish, and we can reformulate the equation to:\n",
    "$$\n",
    " \\frac{1}{r} \\frac{\\partial}{\\partial r} \\left( r \\frac{\\partial u_z}{\\partial r} \\right)\n",
    " = \\frac{1}{\\eta} \\frac{\\partial p}{\\partial z}\n",
    "$$\n",
    "Integrating this equation twice with respect to $r$ and applying the boundary conditions\n",
    "$v_z(r=\\pm R)=0$ then results in the fluid velocity component:\n",
    "$$\n",
    " u_z(r) = \\frac{1}{4\\eta} \\frac{\\partial p}{\\partial z} \\left( r^2 - R^2 \\right)\n",
    "$$\n",
    "which is a **parabolic** flow profile."
   ]
  },
  {
   "cell_type": "markdown",
   "id": "d349bdbb-7283-4a69-85cc-2db340429f1e",
   "metadata": {},
   "source": [
    "----\n",
    "## Hagen-Poiseuille equation\n",
    "We proceed integrating the velocity profile $u_z$ over the cross-sectional area to obtain the **flow** $Q$ [m$^3$/s]:\n",
    "$$\n",
    " Q = \\int\\limits_{0}^{2\\pi} \\int\\limits_{0}^{R} v_z(r) r dr d\\Phi \n",
    "   = \\frac{2\\pi}{4\\eta} \\frac{\\partial p}{\\partial z} \\int\\limits_{0}^{R} \\left( r^3 - r R^2 \\right) dr\n",
    "   = \\frac{2\\pi}{4\\eta} \\frac{\\partial p}{\\partial z} \\big[ \\frac{r^4}{4} - \\frac{r^2}{2} R^2 \\big]_0^R\n",
    "   = \\frac{2\\pi}{4\\eta} \\frac{\\partial p}{\\partial z} \\big[ \\frac{R^4}{4} - \\frac{R^2}{2} R^2 \\big]\n",
    "   = -\\pi R^2 \\frac{R^2}{8\\eta} \\frac{\\partial p}{\\partial z} \n",
    "$$\n",
    "which results in the Hagen-Poiseuille flow for a circular pipe:\n",
    "$$\\fbox{$\n",
    " Q = - A \\frac{\\kappa}{\\eta} \\frac{\\partial p}{\\partial z}\n",
    "$}$$\n",
    "with \n",
    "- $A=\\pi R^2$ [m$^2$] the cross-sectional area, and\n",
    "- $\\kappa=\\frac{R^2}{8}$ [m$^2$] the permeability."
   ]
  },
  {
   "cell_type": "markdown",
   "id": "a465ac06-46a5-4d0a-93a5-b6d80289b61c",
   "metadata": {},
   "source": [
    "<src img=\"images/poiseuille_flow.jpg\" style=\"width:12cm;\">"
   ]
  },
  {
   "cell_type": "markdown",
   "id": "b9ee8777",
   "metadata": {},
   "source": [
    "----"
   ]
  }
 ],
 "metadata": {
  "kernelspec": {
   "display_name": "Python 3 (ipykernel)",
   "language": "python",
   "name": "python3"
  },
  "language_info": {
   "codemirror_mode": {
    "name": "ipython",
    "version": 3
   },
   "file_extension": ".py",
   "mimetype": "text/x-python",
   "name": "python",
   "nbconvert_exporter": "python",
   "pygments_lexer": "ipython3",
   "version": "3.11.3"
  }
 },
 "nbformat": 4,
 "nbformat_minor": 5
}
