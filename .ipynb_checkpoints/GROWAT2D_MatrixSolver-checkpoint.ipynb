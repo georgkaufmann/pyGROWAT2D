{
 "cells": [
  {
   "cell_type": "markdown",
   "id": "7c12ea5a-1894-4ca9-922b-8bb6235a7cde",
   "metadata": {},
   "source": [
    "<table>\n",
    "<tr><td><img style=\"height: 150px;\" src=\"images/geo_hydro1.jpg\"></td>\n",
    "<td bgcolor=\"#FFFFFF\">\n",
    "    <p style=\"font-size: xx-large; font-weight: 900; line-height: 100%\">pyGROWAT2D</p>\n",
    "    <p style=\"font-size: large; color: rgba(0,0,0,0.5);\"><b style=color:red;>GRO</b>und<b style=color:red;>WAT</b>er</p>\n",
    "    <p style=\"font-size: large; color: rgba(0,0,0,0.5);\">Georg Kaufmann</p>\n",
    "    </td>\n",
    "<td><img style=\"height: 150px;\" src=\"images/pyGROWAT2D.png\"></td>\n",
    "</tr>\n",
    "</table>\n",
    "\n",
    "----\n",
    "# `pyGROWAT2D`\n",
    "\n",
    "GROundWATer2D, a program package for  flow in porous rocks."
   ]
  },
  {
   "cell_type": "code",
   "execution_count": 2,
   "id": "35345e5a-d9a0-4ab3-a4a8-5fbc83cc0940",
   "metadata": {
    "tags": []
   },
   "outputs": [],
   "source": [
    "import numpy as np\n",
    "import scipy.sparse\n",
    "import matplotlib.pyplot as plt\n",
    "import sys"
   ]
  },
  {
   "cell_type": "markdown",
   "id": "ff7f72d3-b370-4db3-9049-cb89093ae93b",
   "metadata": {},
   "source": [
    "In this notebook, we solve a **system of linear equations** with two matrix solvers:\n",
    "- a solver from `numpy` for a **full matrix**\n",
    "- a solver from `scipy` for a **sparse matrix**\n",
    "\n",
    "----\n",
    "## Define system of equations\n",
    "\n",
    "We define 6 linear equations for the unknown variables $x_i, i \\in [1,6]$:\n",
    "$$\n",
    "\\begin{array}{cccccccl}\n",
    "-x_1 & +x_2 &      &      &      &      &=& 0 \\\\\n",
    "+x_1 & -x_2 & +x_3 &      &      &      &=& 1 \\\\\n",
    "     & +x_2 & -x_3 & +x_4 &      &      &=& 1 \\\\\n",
    "     &      & +x_3 & -x_4 & +x_5 &      &=& 1 \\\\\n",
    "     &      &      & +x_4 & -x_5 & +x_6 &=& 1 \\\\\n",
    "     &      &      &      & +x_5 & -x_6 &=& 0 \\\\\n",
    "\\end{array}\n",
    "$$\n",
    "This system of equations can be reformulated as matrix equation:\n",
    "$$\n",
    "\\underbrace{\\left[\n",
    "\\begin{array}{rrrrrr}\n",
    "-1 & 1 & 0 & 0 & 0 & 0 \\\\\n",
    " 1 &-1 & 1 & 0 & 0 & 0 \\\\\n",
    " 0 & 1 &-1 & 1 & 0 & 0 \\\\\n",
    " 0 & 0 & 1 &-1 & 1 & 0 \\\\\n",
    " 0 & 0 & 0 & 1 &-1 & 1 \\\\\n",
    " 0 & 0 & 0 & 0 & 1 &-1 \\\\\n",
    "\\end{array}\n",
    "\\right]}_{\\mathbf{A}}\n",
    "\\underbrace{\\left[\n",
    "\\begin{array}{c}\n",
    "x_1 \\\\ x_2  \\\\ x_3 \\\\ x_4 \\\\ x_5 \\\\ x_6\n",
    "\\end{array}\n",
    "\\right]}_{\\mathbf{x}}\n",
    "=\n",
    "\\underbrace{\\left[\n",
    "\\begin{array}{c}\n",
    "0 \\\\ 1  \\\\ 1 \\\\ 1 \\\\ 1 \\\\ 0\n",
    "\\end{array}\n",
    "\\right]}_{\\mathbf{b}}\n",
    "$$\n",
    "As solution of this system of equations is\n",
    "$$\\fbox{$\n",
    "x = [1,1,1,1,1,1]\n",
    "$}$$\n",
    "We will test it ...\n",
    "\n",
    "----\n",
    "## Set up matrix and right-hand side\n",
    "We build the system of equations as `numpy` arrays, check them and plot the\n",
    "matrix with `plt.spy()` as sparsity pattern.\n",
    "\n",
    "Note that lots of entries are zero (no fill)!"
   ]
  },
  {
   "cell_type": "code",
   "execution_count": 3,
   "id": "73ca352c-aeb6-47eb-a03f-e571fdbe1109",
   "metadata": {
    "tags": []
   },
   "outputs": [
    {
     "name": "stdout",
     "output_type": "stream",
     "text": [
      "[[-1  1  0  0  0  0]\n",
      " [ 1 -1  1  0  0  0]\n",
      " [ 0  1 -1  1  0  0]\n",
      " [ 0  0  1 -1  1  0]\n",
      " [ 0  0  0  1 -1  1]\n",
      " [ 0  0  0  0  1 -1]] [0 1 1 1 1 0]\n"
     ]
    },
    {
     "data": {
      "text/plain": [
       "<matplotlib.lines.Line2D at 0x13f86fb10>"
      ]
     },
     "execution_count": 3,
     "metadata": {},
     "output_type": "execute_result"
    },
    {
     "data": {
      "image/png": "[encoded data removed]",
      "text/plain": [
       "<Figure size 300x300 with 1 Axes>"
      ]
     },
     "metadata": {},
     "output_type": "display_data"
    }
   ],
   "source": [
    "A = np.array([[-1,1,0,0,0,0],\n",
    "              [1,-1,1,0,0,0],\n",
    "              [0,1,-1,1,0,0],\n",
    "              [0,0,1,-1,1,0],\n",
    "              [0,0,0,1,-1,1],\n",
    "              [0,0,0,0,1,-1],\n",
    "              ])\n",
    "\n",
    "b = np.array([0,1,1,1,1,0])\n",
    "print(A,b)\n",
    "\n",
    "plt.figure(figsize=(3,3))\n",
    "plt.spy(A,markersize=20)"
   ]
  },
  {
   "cell_type": "markdown",
   "id": "9b702edd-e741-4426-8d4e-da090afca065",
   "metadata": {},
   "source": [
    "----\n",
    "## Full-matrix solver\n",
    "With the **full-matrix solver**, we store the full matrix and solve it.\n",
    "\n",
    "This can become memory consuming for larger matrices with lots of zero entries ..."
   ]
  },
  {
   "cell_type": "code",
   "execution_count": 4,
   "id": "c1a94615-f464-4584-87ae-9209a0388eef",
   "metadata": {
    "tags": []
   },
   "outputs": [
    {
     "name": "stdout",
     "output_type": "stream",
     "text": [
      "Full matrix:  416  bytes\n"
     ]
    }
   ],
   "source": [
    "Afull = np.copy(A)\n",
    "print('Full matrix: ',sys.getsizeof(Afull),' bytes')"
   ]
  },
  {
   "cell_type": "markdown",
   "id": "77f2c175-7150-427a-b5ce-124f0919411d",
   "metadata": {},
   "source": [
    "We solve the full matrix equations with the `solve` solver of the `numpy.linalg` package.\n",
    "The result is correct."
   ]
  },
  {
   "cell_type": "code",
   "execution_count": 5,
   "id": "321054e6-263a-4b81-8a10-1e7e9d2a8ce9",
   "metadata": {
    "tags": []
   },
   "outputs": [
    {
     "name": "stdout",
     "output_type": "stream",
     "text": [
      "[1. 1. 1. 1. 1. 1.]\n",
      "True\n"
     ]
    }
   ],
   "source": [
    "x = np.linalg.solve(Afull,b)\n",
    "print(x)\n",
    "print(np.allclose(np.dot(Afull,x),b))"
   ]
  },
  {
   "cell_type": "markdown",
   "id": "c0477219-7c61-4a3a-af02-c1ab27f34271",
   "metadata": {},
   "source": [
    "----\n",
    "## Sparse-matrix solver\n",
    "More efficient is to store the **sparse-matrix**, only keeping track of the non-zero entries.\n"
   ]
  },
  {
   "cell_type": "code",
   "execution_count": 6,
   "id": "90a8a08d-9788-4971-9e3a-b6ad7fb399c5",
   "metadata": {
    "tags": []
   },
   "outputs": [
    {
     "name": "stdout",
     "output_type": "stream",
     "text": [
      "<class 'scipy.sparse._arrays.lil_array'>\n",
      "  (0, 0)\t-1.0\n",
      "  (0, 1)\t1.0\n",
      "  (1, 0)\t1.0\n",
      "  (1, 1)\t-1.0\n",
      "  (1, 2)\t1.0\n",
      "  (2, 1)\t1.0\n",
      "  (2, 2)\t-1.0\n",
      "  (2, 3)\t1.0\n",
      "  (3, 2)\t1.0\n",
      "  (3, 3)\t-1.0\n",
      "  (3, 4)\t1.0\n",
      "  (4, 3)\t1.0\n",
      "  (4, 4)\t-1.0\n",
      "  (4, 5)\t1.0\n",
      "  (5, 4)\t1.0\n",
      "  (5, 5)\t-1.0\n",
      "<class 'scipy.sparse._arrays.csr_array'>\n",
      "Sparse CSR matrix:  56  bytes\n"
     ]
    }
   ],
   "source": [
    "# set up sparse lil matrix\n",
    "Asparse = scipy.sparse.lil_array((6,6))\n",
    "for i in range(A.shape[0]):\n",
    "    for j in range(A.shape[1]):\n",
    "        if (A[i,j]!=0):\n",
    "            Asparse[i,j] = A[i,j]        \n",
    "print(type(Asparse))\n",
    "print(Asparse)\n",
    "\n",
    "# convert sparse lil to csr matrix\n",
    "Asparse = Asparse.tocsr()\n",
    "print(type(Asparse))\n",
    "\n",
    "print('Sparse CSR matrix: ',sys.getsizeof(Asparse),' bytes')"
   ]
  },
  {
   "cell_type": "markdown",
   "id": "eab5bab0-0fab-4ad3-89e8-81f8fff37c04",
   "metadata": {},
   "source": [
    "We solve the sparse matrix equations with the `spsolve` solver of the `scipy.sparse.linalg` package.\n",
    "The result is correct."
   ]
  },
  {
   "cell_type": "code",
   "execution_count": 7,
   "id": "3105ba37-e32a-46e3-84a5-f77f48fb7ef3",
   "metadata": {
    "tags": []
   },
   "outputs": [
    {
     "name": "stdout",
     "output_type": "stream",
     "text": [
      "[1. 1. 1. 1. 1. 1.]\n",
      "True\n"
     ]
    }
   ],
   "source": [
    "x = scipy.sparse.linalg.spsolve(Asparse,b,permc_spec='MMD_AT_PLUS_A')\n",
    "print(x)\n",
    "print(np.allclose(np.dot(Asparse.todense(),x),b))"
   ]
  },
  {
   "cell_type": "markdown",
   "id": "620cbd77-e3dc-4654-b0a4-33bbdadfc720",
   "metadata": {},
   "source": [
    "----"
   ]
  }
 ],
 "metadata": {
  "kernelspec": {
   "display_name": "Python 3 (ipykernel)",
   "language": "python",
   "name": "python3"
  },
  "language_info": {
   "codemirror_mode": {
    "name": "ipython",
    "version": 3
   },
   "file_extension": ".py",
   "mimetype": "text/x-python",
   "name": "python",
   "nbconvert_exporter": "python",
   "pygments_lexer": "ipython3",
   "version": "3.11.3"
  }
 },
 "nbformat": 4,
 "nbformat_minor": 5
}
