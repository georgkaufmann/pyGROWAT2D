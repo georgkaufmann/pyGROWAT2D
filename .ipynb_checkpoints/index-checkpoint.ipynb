{
 "cells": [
  {
   "cell_type": "markdown",
   "id": "383108c6",
   "metadata": {},
   "source": [
    "<table>\n",
    "<tr><td><img style=\"height: 150px;\" src=\"images/geo_hydro1.jpg\"></td>\n",
    "<td bgcolor=\"#FFFFFF\">\n",
    "    <p style=\"font-size: xx-large; font-weight: 900; line-height: 100%\">pyGROWAT2D</p>\n",
    "    <p style=\"font-size: large; color: rgba(0,0,0,0.5);\"><b style=color:red;>GRO</b>und<b style=color:red;>WAT</b>er</p>\n",
    "    <p style=\"font-size: large; color: rgba(0,0,0,0.5);\">Georg Kaufmann</p>\n",
    "    </td>\n",
    "<td><img style=\"height: 150px;\" src=\"images/pyGROWAT2D.png\"></td>\n",
    "</tr>\n",
    "</table>\n",
    "\n",
    "----\n",
    "# `pyGROWAT2D`\n",
    "\n",
    "GROundWATer2D, a program package for flow in porous rocks."
   ]
  },
  {
   "cell_type": "markdown",
   "id": "fea533e9",
   "metadata": {},
   "source": [
    "----\n",
    "## Contents\n",
    "\n",
    "- [Introduction](GROWAT2D_introduction.ipynb)\n",
    "- Numerical derivatives in 1D\n",
    "    - Explicit scheme\n",
    "        - [Advection](FD_Advection2D.ipynb)\n",
    "        - [Diffusion](FD_Diffusion2D.ipynb)\n",
    "        - [Reaction](FD_Reaction2D.ipynb)\n",
    "        - [Advection,Diffusion,Reaction](FD_AdvDiffReact2D.ipynb)\n",
    "    - Implicit scheme\n",
    "\n",
    "- Setup groundwater model\n",
    "    - [Flow chart](GROWAT2D_flowchart.ipynb)\n",
    "    - [Read](GROWAT2D_read.ipynb)\n",
    "    - [Create](GROWAT2D_create.ipynb)\n",
    "    - [Solve](GROWAT2D_solve.ipynb)\n",
    "    - []()\n",
    "    \n",
    "- Run groundwater model\n",
    "    - [Example run](GROWAT2D_run.ipynb)\n",
    "    \n",
    "- Other\n",
    "    - Libraries\n",
    "        - [libGROWAT2D](libGROWAT2D.ipynb)\n",
    "    - Linear system of equations\n",
    "        - [Matrix solver](GROWAT2D_MatrixSolver.ipynb)"
   ]
  },
  {
   "cell_type": "markdown",
   "id": "b9ee8777",
   "metadata": {},
   "source": [
    "----"
   ]
  }
 ],
 "metadata": {
  "kernelspec": {
   "display_name": "Python 3 (ipykernel)",
   "language": "python",
   "name": "python3"
  },
  "language_info": {
   "codemirror_mode": {
    "name": "ipython",
    "version": 3
   },
   "file_extension": ".py",
   "mimetype": "text/x-python",
   "name": "python",
   "nbconvert_exporter": "python",
   "pygments_lexer": "ipython3",
   "version": "3.11.3"
  }
 },
 "nbformat": 4,
 "nbformat_minor": 5
}
