{
 "cells": [
  {
   "cell_type": "markdown",
   "id": "fd598e49-059f-4fed-be10-674cdc08215e",
   "metadata": {},
   "source": [
    "<table>\n",
    "<tr><td><img style=\"height: 150px;\" src=\"images/geo_hydro1.jpg\"></td>\n",
    "<td bgcolor=\"#FFFFFF\">\n",
    "    <p style=\"font-size: xx-large; font-weight: 900; line-height: 100%\">pyGROWAT2D</p>\n",
    "    <p style=\"font-size: large; color: rgba(0,0,0,0.5);\"><b style=color:red;>GRO</b>und<b style=color:red;>WAT</b>er</p>\n",
    "    <p style=\"font-size: large; color: rgba(0,0,0,0.5);\">Georg Kaufmann</p>\n",
    "    </td>\n",
    "<td><img style=\"height: 150px;\" src=\"images/pyGROWAT2D.png\"></td>\n",
    "</tr>\n",
    "</table>\n",
    "\n",
    "----\n",
    "# `pyGROWAT2D`\n",
    "\n",
    "GROundWATer2D, a program package for  flow in porous rocks."
   ]
  },
  {
   "cell_type": "markdown",
   "id": "f9a2d9c2-2a3e-4702-ab07-c10bead4dfbb",
   "metadata": {},
   "source": [
    "----\n",
    "# Flow chart for program `pyGROWAT2D`\n",
    "\n",
    "<img src='images/pyGROWAT2D_Flowchart.png' style='width:12cm;float: right;'>\n",
    "\n",
    "## Read\n",
    "\n",
    "In the first section, we want to read in all relevant parameter values from files:\n",
    "- `readParameter2D()`: Reads in the **geometry** of the modelling domain.\n",
    "- `readBC2D()`: Reads in the **boundary conditions** for the model.\n",
    "- `readMaterial2D()`: Reads in the **material properties** of the domain and possible sub-sections of the domain.\n",
    "\n",
    "\n",
    "## Create\n",
    "\n",
    "In the second section, we want to create the grid setup, set boundary conditions, define properties:\n",
    "- `createNodes2D()`: Creates the **coordinates** of the modelling domain.\n",
    "- `createFields2D()`: Initialises the **fields** needed as arrays.\n",
    "- `createProperties2D()`: Expand the **materials** to the nodes.\n",
    "\n",
    "## Solve\n",
    "In the third section, the actual time-dependent calculations are performed:\n",
    "- `buildHEADBC2D()`: Apply boundary conditions to acutal time step before solving equations.\n",
    "- `buildHeadEquations2D_ss()`: Assemble matrix and right-hand side of system of linear equations (steady-state case).\n",
    "- `buildHeadEquations2D_t()`: Assemble matrix and right-hand side of system of linear equations (transient case).\n",
    "- `solveLinearSystem2D()`: Solve linear system which sparse-matrix solver\n",
    "- `solveVelocities2D()`: Calculate flow velocities from head distribution, using the Darcy law.\n",
    "- `saveHeadsAndVelocities2D():` Save fields to file for choosen time step.\n",
    "- `plotHeadsAndVelocities2D():` Plot heads and velocities for choosen time step.\n",
    "\n",
    "## Final\n",
    "In this last sections, final tasks can be embedded, e.g. plotting of the results."
   ]
  },
  {
   "cell_type": "markdown",
   "id": "3cf833ba-c6a1-4115-973a-1e04f88c20b0",
   "metadata": {},
   "source": [
    "----"
   ]
  }
 ],
 "metadata": {
  "kernelspec": {
   "display_name": "Python 3 (ipykernel)",
   "language": "python",
   "name": "python3"
  },
  "language_info": {
   "codemirror_mode": {
    "name": "ipython",
    "version": 3
   },
   "file_extension": ".py",
   "mimetype": "text/x-python",
   "name": "python",
   "nbconvert_exporter": "python",
   "pygments_lexer": "ipython3",
   "version": "3.11.3"
  }
 },
 "nbformat": 4,
 "nbformat_minor": 5
}
