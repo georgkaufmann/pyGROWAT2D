{
 "cells": [
  {
   "cell_type": "markdown",
   "id": "b0b301de-f468-4dac-a952-a6d215126b2f",
   "metadata": {},
   "source": [
    "<table>\n",
    "<tr><td><img style=\"height: 150px;\" src=\"images/geo_hydro1.jpg\"></td>\n",
    "<td bgcolor=\"#FFFFFF\">\n",
    "    <p style=\"font-size: xx-large; font-weight: 900; line-height: 100%\">pyGROWAT2D</p>\n",
    "    <p style=\"font-size: large; color: rgba(0,0,0,0.5);\"><b style=color:red;>GRO</b>und<b style=color:red;>WAT</b>er</p>\n",
    "    <p style=\"font-size: large; color: rgba(0,0,0,0.5);\">Georg Kaufmann</p>\n",
    "    </td>\n",
    "<td><img style=\"height: 150px;\" src=\"images/pyGROWAT2D.png\"></td>\n",
    "</tr>\n",
    "</table>\n",
    "\n",
    "----\n",
    "# `pyGROWAT2D`\n",
    "\n",
    "GROundWATer2D, a program package for flow in porous rocks."
   ]
  },
  {
   "cell_type": "code",
   "execution_count": 1,
   "id": "b4b143c5-1f31-418e-9e2b-beaf6a075cbe",
   "metadata": {
    "tags": []
   },
   "outputs": [],
   "source": [
    "import matplotlib.pyplot as plt\n",
    "import numpy as np\n",
    "import scipy.sparse.linalg\n",
    "import sys\n",
    "\n",
    "import libGROWAT2D"
   ]
  },
  {
   "cell_type": "markdown",
   "id": "3f41b98a-c143-449d-acfc-9c65925e14d8",
   "metadata": {},
   "source": [
    "----\n",
    "# Run `pyGROWAT2D`\n",
    "\n",
    "Now we have assembed and discussed all relevant functions.\n",
    "\n",
    "We group the functions in a wrapper function, `pyGROWAT2D()`.\n",
    "Two options are passed:\n",
    "- `state`: choice for \n",
    "    - **steady-state solution:** `'ss'`\n",
    "    - **transient solution:** `'t'`\n",
    "- `saved`: choice for output \n",
    "     - 'nnn': no,no,no\n",
    "     - 'snn': screen,no,no\n",
    "     - 'san': screen,ascii,no \n",
    "     - 'snv': screen,no,plot ..."
   ]
  },
  {
   "cell_type": "code",
   "execution_count": 31,
   "id": "f0145301-4e4c-4222-aa5a-b3c8e1b63b5a",
   "metadata": {
    "tags": []
   },
   "outputs": [],
   "source": [
    "def pyGROWAT2D(state='ss',saved='snn'):\n",
    "    eastmin,eastmax,nx,northmin,northmax,ny,time_start,time_end,time_step,time_scale,whichtime = \\\n",
    "    libGROWAT2D.readParameter2D(control=True)\n",
    "    dataBC = libGROWAT2D.readBC2D()\n",
    "    dataMAT = libGROWAT2D.readMaterials2D(control=True)\n",
    "    X,Y,dx,dy = libGROWAT2D.createNodes2D(eastmin,eastmax,nx,northmin,northmax,ny,control=True)\n",
    "    K,S,head,flow,vx,vy = libGROWAT2D.createFields2D(nx,ny)\n",
    "    K,S = libGROWAT2D.createProperties2D(dataMAT,K,S,X,Y,nx,ny,control=True)\n",
    "\n",
    "    itime    = 0\n",
    "    time     = time_start\n",
    "    while (time <= time_end):\n",
    "        # set boundary conditions\n",
    "        ibound,irecharge,head,flow = libGROWAT2D.buildBC2D(dataBC,nx,ny,dx,dy,time,time_scale,head,flow)\n",
    "        # assemble matrix and rhs of system of equations\n",
    "        headOld = np.copy(head)\n",
    "        flowOld = np.copy(flow)\n",
    "        if (state=='ss'):\n",
    "            matrix,rhs = libGROWAT2D.buildHeadEquations2D_ss(dx,dy,nx,ny,K,head,flow,ibound)\n",
    "        if (state=='t'):\n",
    "            matrix,rhs = libGROWAT2D.buildHeadEquations2D_t(dx,dy,nx,ny,time_step,K,S,\n",
    "                                                            head,headOld,flow,flowOld,ibound)\n",
    "        #print('Sparse CSR matrix: ',sys.getsizeof(matrix),' bytes')\n",
    "        # sparse matrix solver for system of equations\n",
    "        head = libGROWAT2D.solveHeadEquations2D(matrix,rhs)\n",
    "        # calculate velocities\n",
    "        xc,yc,vcx,vcy = libGROWAT2D.solveVelocities2D(nx,ny,time_scale,X,Y,K,head)\n",
    "        vabs = np.sqrt(vcx**2 + vcy**2)\n",
    "        \n",
    "        # control output to screen\n",
    "        if (saved[0]=='s'): libGROWAT2D.saveToScreen2D(saved,time,time_scale,head,vabs) \n",
    "        # save to file\n",
    "        if (saved[1]=='a'): libGROWAT2D.saveHeadsAndVelocities2D(itime,time,time_scale,whichtime,\n",
    "                                                                 X,Y,head,flow,xc,yc,vcx,vcy,ibound,irecharge)\n",
    "        # plot to file\n",
    "        if (saved[2]=='v'): libGROWAT2D.plotHeadsAndVelocities2D(itime,time,time_scale,X,Y,head,xc,yc,vcx,vcy,ibound,irecharge)\n",
    "          \n",
    "        time += time_step\n",
    "        itime += 1\n",
    "    return"
   ]
  },
  {
   "cell_type": "code",
   "execution_count": 32,
   "id": "be9e43cf-7867-4926-aadb-19c297a370c2",
   "metadata": {
    "tags": []
   },
   "outputs": [
    {
     "name": "stdout",
     "output_type": "stream",
     "text": [
      "== GROWAT2D ==\n",
      "      xmin,xmax [m]:       0.00    2000.00\n",
      "      ymin,ymax [m]:       0.00    2000.00\n",
      "              nx,ny:         21         21\n",
      "    time_start[day]:       1.00\n",
      "      time_end[day]:       2.00\n",
      "     time_step[day]:       1.00\n",
      "          whichtime: day\n",
      "          Materials: ['Soil1' '0' '2000' '0' '200' '3e-1' '1e-2']\n",
      "    X.min,X.max [m]:       0.00    2000.00\n",
      "    Y.min,Y.max [m]:       0.00    2000.00\n",
      "  K.min,K.max [m/s]:   0.300000   0.300000\n",
      "  S.min,S.max [1/s]:   0.010000   0.010000\n",
      "snv t:         1 h:  1185.52 +/-   430.37     0.00 -  2000.00 v:   455.00 - 36732.50\n",
      "snv t:         2 h:  1305.30 +/-   432.46     0.00 -  2000.00 v:  2051.15 - 34589.34\n"
     ]
    }
   ],
   "source": [
    "pyGROWAT2D(state='ss',saved='snv')"
   ]
  },
  {
   "cell_type": "markdown",
   "id": "a56576ed-6baa-4bf7-9a91-69adf1722335",
   "metadata": {},
   "source": [
    "----"
   ]
  }
 ],
 "metadata": {
  "kernelspec": {
   "display_name": "Python 3 (ipykernel)",
   "language": "python",
   "name": "python3"
  },
  "language_info": {
   "codemirror_mode": {
    "name": "ipython",
    "version": 3
   },
   "file_extension": ".py",
   "mimetype": "text/x-python",
   "name": "python",
   "nbconvert_exporter": "python",
   "pygments_lexer": "ipython3",
   "version": "3.11.3"
  }
 },
 "nbformat": 4,
 "nbformat_minor": 5
}
