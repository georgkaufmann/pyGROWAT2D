{
 "cells": [
  {
   "cell_type": "markdown",
   "id": "fd598e49-059f-4fed-be10-674cdc08215e",
   "metadata": {},
   "source": [
    "<table>\n",
    "<tr><td><img style=\"height: 150px;\" src=\"images/geo_hydro1.jpg\"></td>\n",
    "<td bgcolor=\"#FFFFFF\">\n",
    "    <p style=\"font-size: xx-large; font-weight: 900; line-height: 100%\">pyGROWAT2D</p>\n",
    "    <p style=\"font-size: large; color: rgba(0,0,0,0.5);\"><b style=color:red;>GRO</b>und<b style=color:red;>WAT</b>er</p>\n",
    "    <p style=\"font-size: large; color: rgba(0,0,0,0.5);\">Georg Kaufmann</p>\n",
    "    </td>\n",
    "<td><img style=\"height: 150px;\" src=\"images/pyGROWAT2D.png\"></td>\n",
    "</tr>\n",
    "</table>\n",
    "\n",
    "----\n",
    "# `pyGROWAT2D`\n",
    "\n",
    "GROundWATer2D, a program package for  flow in porous rocks."
   ]
  },
  {
   "cell_type": "code",
   "execution_count": 1,
   "id": "b284100b-55fd-4cee-b770-374a711e49e0",
   "metadata": {
    "tags": []
   },
   "outputs": [],
   "source": [
    "import libGROWAT2D"
   ]
  },
  {
   "cell_type": "markdown",
   "id": "f9a2d9c2-2a3e-4702-ab07-c10bead4dfbb",
   "metadata": {},
   "source": [
    "----\n",
    "# Read input parameter for `pyGROWAT2D`\n",
    "\n",
    "----\n",
    "## `readParameter2D()`\n",
    "\n",
    "First we read in the input file `GROWAT2D_parameter.in`. \n",
    "We use the example from the `work` directory:\n",
    "\n",
    "~~~\n",
    "     0.    2000.   21   ! xmin,xmax [m], nx\n",
    " -1000.    1000.   21   ! ymin,ymax [m], ny  \n",
    "     day                ! whichtime flag\n",
    "     0.0  150.  2.      ! timeStart, timeEnd, timeStep [time_units]\n",
    "~~~\n",
    "\n",
    "This file contains:\n",
    "- the **geometry**, given as min and max coordinates `xmin` and `xmax`, and the number of grid points `nx`.\n",
    "- the **geometry**, given as min and max coordinates `ymin` and `ymax`, and the number of grid points `ny`.\n",
    "- the **time flag** `whichtime`, defining the time scale (year, month, day, hour).\n",
    "- the **time control**, given as start and end time `time_start` and `time_end` and the time step `time_step`.\n",
    "\n",
    "**Notes:**\n",
    "\n",
    "- The file **must** start which two comment lines!\n",
    "- the **data structure** is mandatory!"
   ]
  },
  {
   "cell_type": "code",
   "execution_count": 3,
   "id": "bbeeb149-d396-49ba-a67f-8b47621d99b6",
   "metadata": {
    "tags": []
   },
   "outputs": [
    {
     "name": "stdout",
     "output_type": "stream",
     "text": [
      "Help on function readParameter2D in module libGROWAT2D:\n",
      "\n",
      "readParameter2D(infile='GROWAT2D_parameter.in', path='work/', control=False)\n",
      "    ! read GROWAT2D parameter file\n",
      "    ! input:\n",
      "    !  (from file infile)\n",
      "    ! output:\n",
      "    !  xmin,xmax,nx         - min/max for x coordinate [m], discretisation\n",
      "    !  ymin,ymax,ny         - min/max for y coordinate [m], discretisation\n",
      "    !  whichtime            - flag for time units used\n",
      "    !  time_start,time_end  - start/end point for time scale [s]\n",
      "    !  time_step            - time step [s]\n",
      "    !  time_scale           - scaling coefficient for user time scale\n",
      "    ! use:\n",
      "    !  xmin,xmax,nx,ymin,ymax,ny,time_start,time_end,time_step,time_scale,whichtime = libGROWAT2D.readParameter2D()\n",
      "    ! note:\n",
      "    !  file structure given!\n",
      "    !  uses readline(),variables come in as string,\n",
      "    !  must be separated and converted ...\n",
      "\n"
     ]
    }
   ],
   "source": [
    "help(libGROWAT2D.readParameter2D)"
   ]
  },
  {
   "cell_type": "markdown",
   "id": "9870a5b6-8734-4045-921c-45ff99af5565",
   "metadata": {},
   "source": [
    "----\n",
    "## `readHEADBC2D()`\n",
    "\n",
    "The boundary conditions are read from file `GROWAT2D_bc.in`.\n",
    "We use the example from the `work` directory:\n",
    "\n",
    "~~~\n",
    "# itype= 1-resurgence, 2-head, 3-recharge, 4-sink\n",
    "# itype  i1  i2  j1  j2   t1   t2   value\n",
    "      3   0  20   0  20   50  120   0.822    # recharge [mm/d] equal to 300 mm/yr\n",
    "      4  10  10  10  10  100  150  -1000.    # drawdown [m3/d]\n",
    "      1   0  20   0   0    1  150      1.    # fixed head (river) [m]\n",
    "      2   0  20  20  20    1  150      3.    # fixed head (river) [m]\n",
    "~~~\n",
    "\n",
    "There are four types of **boundary conditions**:\n",
    "\n",
    "1. **fixed resurgence head:** a fixed-head (Dirichlet) boundary condition, values in [m].\n",
    "2. **fixed head:** a fixed-head (Dirichlet) boundary condition, values in [m].\n",
    "3. **fixed recharge:** a fixed-flow (Neumann) boundary condition for rain, values in [mm/timeUnit], will be converted to [m$^3$/s].\n",
    "4. **fixed sink:** a fixed-flow (Neumann) boundary condition for pumping, value in [m$^3$/timeUnit], will be converted to [m$^3$/s].\n",
    "\n",
    "- The counters `i1,i2` mark the location of the **first** and **last** point of the boundary condition in $x$-direction.\n",
    "- The counters `j1,j2` mark the location of the **first** and **last** point of the boundary condition in $y$-direction.\n",
    "- The counters `t1,t2` mark the **time onset** and **time offset** of the boundary condition.\n",
    "\n",
    "**Notes:**\n",
    "\n",
    "- The file **must** start which two comment lines!\n",
    "- the **data structure** is mandatory!"
   ]
  },
  {
   "cell_type": "code",
   "execution_count": 4,
   "id": "af6397ae-1650-44f1-82e6-d4896b85f7cf",
   "metadata": {
    "tags": []
   },
   "outputs": [
    {
     "name": "stdout",
     "output_type": "stream",
     "text": [
      "Help on function readHEADBC2D in module libGROWAT2D:\n",
      "\n",
      "readHEADBC2D(infile='GROWAT2D_bc.in', path='work/', control=False)\n",
      "    ! read GROWAT2D boundary conditions file\n",
      "    ! input:\n",
      "    ! (from file infile)\n",
      "    ! output:\n",
      "    !  dataBC      - array of boundary conditions\n",
      "    ! use:\n",
      "    !  dataBC = libGROWAT2D.readHEADBC2D()\n",
      "    ! note:\n",
      "    !  uses np.loadtxt(), data read as (float) array\n",
      "    !  first two lines are meta data and are mandatory!\n",
      "\n"
     ]
    }
   ],
   "source": [
    "help(libGROWAT2D.readHEADBC2D)"
   ]
  },
  {
   "cell_type": "markdown",
   "id": "3eef5499-8ad3-4ab7-8304-5f1757d792a4",
   "metadata": {},
   "source": [
    "----\n",
    "## `readMaterial2D()`\n",
    "\n",
    "The material properties are read from file `GROWAT2D_materials.in`.\n",
    "We use the example from the `work` directory:\n",
    "\n",
    "~~~\n",
    "# must be TWO comment lines here! First data line is STANDARD material!\n",
    "#   name x1[m] x2[m] y1[m] y2[m]  K[m/s] S[1/m]\n",
    "   Soil1   0  2000     0  200  3e-3   1e-2\n",
    "~~~\n",
    "\n",
    "Materials are marked by name, then:\n",
    "- The counters `x1,x2` mark the location of the **first** and **last** point of the material in $x$-direction.\n",
    "- The counters `y1,y2` mark the location of the **first** and **last** point of the material in $y$-direction.\n",
    "- `K`[m/s] is the **hydraulic conductivity** of the material.\n",
    "- `S`[1/m] is the **specific storativity** of the material.\n",
    "\n",
    "**Notes:**\n",
    "\n",
    "- The file **must** start which two comment lines!\n",
    "- the **data structure** is mandatory!\n",
    "- The first material is the **standard material**!"
   ]
  },
  {
   "cell_type": "code",
   "execution_count": 5,
   "id": "76388ea1-e6d0-4763-89f2-96a6080e1efc",
   "metadata": {
    "tags": []
   },
   "outputs": [
    {
     "name": "stdout",
     "output_type": "stream",
     "text": [
      "Help on function readMaterials2D in module libGROWAT2D:\n",
      "\n",
      "readMaterials2D(infile='GROWAT2D_materials.in', path='work/', control=False)\n",
      "    ! read GROWAT2D material areas file\n",
      "    ! input:\n",
      "    !  (from file infile)\n",
      "    ! output:\n",
      "    !  dataMAT      - array of boundary conditions\n",
      "    ! use:\n",
      "    !  dataMAT = libGROWAT2D.readMaterials2D()\n",
      "    ! note:\n",
      "    !  uses np.loadtxt(), data read as (float) array\n",
      "    !  first two lines meta data!\n",
      "\n"
     ]
    }
   ],
   "source": [
    "help(libGROWAT2D.readMaterials2D)"
   ]
  },
  {
   "cell_type": "markdown",
   "id": "3cf833ba-c6a1-4115-973a-1e04f88c20b0",
   "metadata": {},
   "source": [
    "----"
   ]
  }
 ],
 "metadata": {
  "kernelspec": {
   "display_name": "Python 3 (ipykernel)",
   "language": "python",
   "name": "python3"
  },
  "language_info": {
   "codemirror_mode": {
    "name": "ipython",
    "version": 3
   },
   "file_extension": ".py",
   "mimetype": "text/x-python",
   "name": "python",
   "nbconvert_exporter": "python",
   "pygments_lexer": "ipython3",
   "version": "3.11.3"
  }
 },
 "nbformat": 4,
 "nbformat_minor": 5
}
