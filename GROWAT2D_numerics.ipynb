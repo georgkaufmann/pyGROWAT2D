{
 "cells": [
  {
   "cell_type": "markdown",
   "id": "383108c6",
   "metadata": {},
   "source": [
    "<table>\n",
    "<tr><td><img style=\"height: 150px;\" src=\"images/geo_hydro1.jpg\"></td>\n",
    "<td bgcolor=\"#FFFFFF\">\n",
    "    <p style=\"font-size: xx-large; font-weight: 900; line-height: 100%\">pyGROWAT2D</p>\n",
    "    <p style=\"font-size: large; color: rgba(0,0,0,0.5);\"><b style=color:red;>GRO</b>und<b style=color:red;>WAT</b>er</p>\n",
    "    <p style=\"font-size: large; color: rgba(0,0,0,0.5);\">Georg Kaufmann</p>\n",
    "    </td>\n",
    "<td><img style=\"height: 150px;\" src=\"images/pyGROWAT2D.png\"></td>\n",
    "</tr>\n",
    "</table>\n",
    "\n",
    "----\n",
    "# `pyGROWAT2D`\n",
    "\n",
    "GROundWATer2D, a program package for flow in porous rocks."
   ]
  },
  {
   "cell_type": "markdown",
   "id": "4d75e355-4eda-4a6a-8a9e-45a296432e4a",
   "metadata": {},
   "source": [
    "----\n",
    "# Numerical implementation\n",
    "\n",
    "We implement the groundwater-flow equation based on a general form of an **advection-diffusion-reaction** equation,\n",
    "which in 3D can be formulated as:\n",
    "$$\n",
    "\\frac{\\partial c}{\\partial t}\n",
    "= - \\vec{u} \\cdot \\nabla c\n",
    "- \\nabla \\cdot \\vec{F}\n",
    "+ M +R\n",
    "$$\n",
    "with:\n",
    "- $c$ [-] a quantity (e.g. temperature, concentration, pressure, ...)\n",
    "- $t$ [s] time\n",
    "- $\\vec{u}$ [m/s] velocity\n",
    "- $\\vec{F}$ [m/s] flux\n",
    "- $M$ [1/s] source term\n",
    "- $R$ [1/s] reaction term\n",
    "- $\\nabla$ [1/m] nabla operator\n",
    "\n",
    "From this general **advection-diffusion-reaction** equation we can define equations for\n",
    "- water pressure (head)\n",
    "- water velocities\n",
    "- temperature\n",
    "- concentration\n",
    "- dissolution\n",
    "\n",
    "We will proceed with the equation for **groundwater flow**, described by the distribution of\n",
    "the **hydraulic head** $h$."
   ]
  },
  {
   "cell_type": "markdown",
   "id": "fea533e9",
   "metadata": {},
   "source": [
    "----\n",
    "## Groundwater-flow equation\n",
    "\n",
    "The program `GROWAT1D` (GROundWATer2D) solves the **advection-diffusion-reaction** equation\n",
    "without **diffusion** ($\\vec{u} \\cdot \\nabla c=0$) and without **reaction** ($M=R=0$) in a two-dimensional\n",
    "modeling domain for a porous aquifer under steady-state or transient flow conditions:\n",
    "$$\n",
    "\\begin{array}{rcl}\n",
    " S \\frac{\\partial h}{\\partial t} & = & - \\nabla \\cdot \\vec{F} \\\\\n",
    " \\vec{F} &=& - K \\nabla h\n",
    "\\end{array}\n",
    "$$\n",
    "- The first equation is a conservation equation for flow, with $h$ [m] the hydraulic head,\n",
    "$S$ [1/m] the specific storage,\n",
    "$\\vec{F}$ the Dary-flow velocity.\n",
    "- The second equation is the **Darcy law** for laminar flow, \n",
    "with $K$ [m/s] the hydraulic conductivity.\n",
    "\n",
    "These equations will be converted into a numerical algorithm next."
   ]
  },
  {
   "cell_type": "markdown",
   "id": "30cbe2be-d54b-4504-afcb-a7164d514a9b",
   "metadata": {},
   "source": [
    "----\n",
    "## Finite differences in 2D\n",
    "We insert the fluxrate equation into the diffusion equation for a 2D geometry:\n",
    "$$\n",
    "S \\frac{\\partial h}{\\partial t} \n",
    "= \\frac{\\partial}{\\partial x} K \\frac{\\partial h}{\\partial x}\n",
    "+ \\frac{\\partial}{\\partial y} K \\frac{\\partial h}{\\partial y}\n",
    "$$\n",
    "\n",
    "----\n",
    "## Explicit: FTCS scheme (forward time centered space)\n",
    "\n",
    "We solve the above equation for hydraulic heads $h$, using a forward-time, centered-space method, `FTCS`.\n",
    "Here, the derivatives in the transient diffusion equations are replaced by **forward differences in time** \n",
    "and **central differences is space**:\n",
    "$$\n",
    "\\begin{array}{rcl}\n",
    "S \\frac{h_{i,j}^{n+1}-h_{i,j}^{n}}{\\Delta t}\n",
    "&=&\n",
    "  \\frac{K^n_{i+0.5,j} \\frac{\\partial h^n_{i+0.5,j}}{\\partial x} - K^n_{i-0.5,j} \\frac{\\partial h^n_{i-0.5,j}}{\\partial x}}{\\Delta x} \n",
    "+ \\frac{K^n_{i,j+0.5} \\frac{\\partial h^n_{i,j+0.5}}{\\partial y} - K^n_{i,j-0.5} \\frac{\\partial h^n_{i,j-0.5}}{\\partial y}}{\\Delta y}\\\\\n",
    "&=& \n",
    "  \\frac{K^n_{i+0.5,j} h^n_{i+1,j} - \\big( K^n_{i+0.5,j}+K^n_{i-0.5,j} \\big) h^n_{i,j} + K^n_{i-0.5,j} h^n_{i-1,j} }{\\Delta x^2}\n",
    "+ \\frac{K^n_{i,j+0.5} h^n_{i,j+1} - \\big( K^n_{i,j+0.5}+K^n_{i,j-0.5} \\big) h^n_{i,j} + K^n_{i,j-0.5} h^n_{i,j-1} }{\\Delta y^2}\n",
    "\\end{array}\n",
    "$$\n",
    "For the hydraulic conductivities at half-step positions, we use averages:\n",
    "$$\n",
    "\\begin{array}{rcl}\n",
    "K_{left}   &=& \\frac{1}{2} \\big( K_{i-1,j} + K_{i,j} \\big) \\\\\n",
    "K_{right}  &=& \\frac{1}{2} \\big( K_{i,j} + K_{i+1,j} \\big) \\\\\n",
    "K_{bottom} &=& \\frac{1}{2} \\big( K_{i,j-1} + K_{i,j} \\big) \\\\\n",
    "K_{top}    &=& \\frac{1}{2} \\big( K_{i,j} + K_{i,j+1} \\big) \\\\\n",
    "\\end{array}\n",
    "$$\n",
    "\n",
    "Solved for the next time step\n",
    "$$\\fbox{$\n",
    "h_{{i,j}}^{n+1}\n",
    "=\n",
    "h_{{i,j}}^{n}\n",
    "+ \\frac{\\Delta t}{S \\Delta x^2} \\big( K_{right} h^n_{i+1,j} - \\big( K_{left}+K_{right} \\big) h^n_{i,j} + K_{left} h^n_{i-1,j} \\big)\n",
    "+ \\frac{\\Delta t}{S \\Delta y^2} \\big( K_{top} h^n_{i,j+1} - \\big( K_{bottom}+K_{top} \\big) h^n_{i,j} + K_{bottom} h^n_{i,j-1}\\big)\n",
    "$}$$\n",
    "The above equations is a set of $n$ equations for all nodes $(i,j)$ of the model domain.\n",
    "\n",
    "In this **explicit scheme**, we calculate the hydraulic heads $h_{i,j}^{n+1}$ for the next time step $t^{n+1}$ from \n",
    "hydraulic heads $h_{i,j}^{n}$ of the previous time step $t^{n}$. We therefore can solve the above set of equations\n",
    "**one-by-one**, and a simple **function** will be suitable.\n",
    "\n",
    "This equation is implemented in the notebooks with the examples of the differential operators."
   ]
  },
  {
   "cell_type": "markdown",
   "id": "ef03e344-2def-47df-b5f7-b79edb86ef54",
   "metadata": {},
   "source": [
    "----\n",
    "## Implicit:\n",
    "\n",
    "Next, we extent the `FTCS` method to an **implicit** method. The method is called **implicit**,\n",
    "because we will use information for the new time step $t^{n+1}$ by also using information of\n",
    "the old and the new time steps:"
   ]
  },
  {
   "cell_type": "markdown",
   "id": "b9ee8777",
   "metadata": {},
   "source": [
    "----"
   ]
  }
 ],
 "metadata": {
  "kernelspec": {
   "display_name": "Python 3 (ipykernel)",
   "language": "python",
   "name": "python3"
  },
  "language_info": {
   "codemirror_mode": {
    "name": "ipython",
    "version": 3
   },
   "file_extension": ".py",
   "mimetype": "text/x-python",
   "name": "python",
   "nbconvert_exporter": "python",
   "pygments_lexer": "ipython3",
   "version": "3.11.3"
  }
 },
 "nbformat": 4,
 "nbformat_minor": 5
}
