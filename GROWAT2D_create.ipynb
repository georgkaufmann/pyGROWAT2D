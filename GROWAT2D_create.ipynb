{
 "cells": [
  {
   "cell_type": "markdown",
   "id": "fd598e49-059f-4fed-be10-674cdc08215e",
   "metadata": {},
   "source": [
    "<table>\n",
    "<tr><td><img style=\"height: 150px;\" src=\"images/geo_hydro1.jpg\"></td>\n",
    "<td bgcolor=\"#FFFFFF\">\n",
    "    <p style=\"font-size: xx-large; font-weight: 900; line-height: 100%\">pyGROWAT2D</p>\n",
    "    <p style=\"font-size: large; color: rgba(0,0,0,0.5);\"><b style=color:red;>GRO</b>und<b style=color:red;>WAT</b>er</p>\n",
    "    <p style=\"font-size: large; color: rgba(0,0,0,0.5);\">Georg Kaufmann</p>\n",
    "    </td>\n",
    "<td><img style=\"height: 150px;\" src=\"images/pyGROWAT2D.png\"></td>\n",
    "</tr>\n",
    "</table>\n",
    "\n",
    "----\n",
    "# `pyGROWAT2D`\n",
    "\n",
    "GROundWATer2D, a program package for  flow in porous rocks."
   ]
  },
  {
   "cell_type": "code",
   "execution_count": 1,
   "id": "b284100b-55fd-4cee-b770-374a711e49e0",
   "metadata": {
    "tags": []
   },
   "outputs": [],
   "source": [
    "import libGROWAT2D"
   ]
  },
  {
   "cell_type": "markdown",
   "id": "f9a2d9c2-2a3e-4702-ab07-c10bead4dfbb",
   "metadata": {},
   "source": [
    "----\n",
    "# Create model domain for `pyGROWAT2D`\n",
    "\n",
    "----\n",
    "## `createNodes2D()`\n",
    "\n",
    "In this function, we create **coordinates** for a 2D problem. \n",
    "We have read in `xmin` and `xmax` as min and max values in $x$-direction,\n",
    "`ymin` and `ymax` as min and max values n $y$-direction,\n",
    "along with the step sizes `nx` and `ny`.\n",
    "\n",
    "With these parameter values, two **linear** arrays for the coordinates are created, using `np.linspace()`:\n",
    "$$\n",
    "\\begin{array}{rcl}\n",
    "x_i &=& x_{min} + i \\frac{x_{max}-x_{min}}{nx-1}, i \\in [0,nx-1] \\\\\n",
    "y_j &=& y_{min} + j \\frac{y_{max}-y_{min}}{ny-1}, j \\in [0,ny-1] \\\\\n",
    "\\end{array}\n",
    "$$\n",
    "\n",
    "In a second step, we extend these 1D arrays into the second dimension, using the\n",
    "new counter `ij = i + (j) nx`.\n",
    "~~~\n",
    "for i in range(nx):\n",
    "    for j in range(ny):\n",
    "        ij = i + (j)*nx\n",
    "        X[ij] = x[i]\n",
    "        Y[ij] = y[j]\n",
    "~~~\n",
    "Note, that the two new arrays `X` and `Y` contain the 2D coordinate data structure, but are\n",
    "set up as linear arrays. \n",
    "\n",
    "The same could be achieved using the `numpy` function `X,Y = meshgrid(x,y)` first,\n",
    "then flatten the arrays in a second step, `X.flatten();Y.flatten()`."
   ]
  },
  {
   "cell_type": "code",
   "execution_count": 2,
   "id": "af6397ae-1650-44f1-82e6-d4896b85f7cf",
   "metadata": {
    "tags": []
   },
   "outputs": [
    {
     "name": "stdout",
     "output_type": "stream",
     "text": [
      "Help on function createNodes2D in module libGROWAT2D:\n",
      "\n",
      "createNodes2D(xmin, xmax, nx, ymin, ymax, ny, control=False)\n",
      "    !-----------------------------------------------------------------------\n",
      "    ! create nodes in 2D domain\n",
      "    ! first, a rectangular box with the given limits\n",
      "    ! Input:\n",
      "    !  xmin,xmax         - min/max for x\n",
      "    !  ymin,ymax         - min/max for y\n",
      "    !  nx,ny             - number of nodes in x,y direction\n",
      "    ! Output:\n",
      "    !  X(ijk)            - x-coordinate [m] of node ijk\n",
      "    !  Y(ijk)            - y-coordinate [m] of node ijk\n",
      "    !  dx,dy             - spatial discretisation [m]\n",
      "    ! use:\n",
      "    !  X,Y,dx,dy = libGROWAT2D.createNodes2D(xmin,xmax,nx,ymin,ymax,ny)\n",
      "    ! notes:\n",
      "    !  ij,ijk            - node counter in x/y and x/y/z direction\n",
      "    !-----------------------------------------------------------------------\n",
      "\n"
     ]
    }
   ],
   "source": [
    "help(libGROWAT2D.createNodes2D)"
   ]
  },
  {
   "cell_type": "markdown",
   "id": "3eef5499-8ad3-4ab7-8304-5f1757d792a4",
   "metadata": {},
   "source": [
    "----\n",
    "## `createFields2D()`\n",
    "This function simply initialises the arrays needed as 2D arrays filled initially with zeros.\n",
    "We use the `np.zeros()` function for this tasks.\n",
    "\n",
    "- **Input**: Solely the array dimensions `nx` and `ny`.\n",
    "- **Output**: The arrays for head `head`, flow `flow`, hydraulic conductivity `K`, specific storage `S`, and velocity `vx`. "
   ]
  },
  {
   "cell_type": "code",
   "execution_count": 3,
   "id": "76388ea1-e6d0-4763-89f2-96a6080e1efc",
   "metadata": {
    "tags": []
   },
   "outputs": [
    {
     "name": "stdout",
     "output_type": "stream",
     "text": [
      "Help on function createFields2D in module libGROWAT2D:\n",
      "\n",
      "createFields2D(nx, ny)\n",
      "    ! function initializes all field with appropriate dimensions\n",
      "    ! input:\n",
      "    !  nx,ny           - coordinate increments\n",
      "    ! output:\n",
      "    !  K               - conductivity  of node i\n",
      "    !  S               - storativity of node i\n",
      "    !  flow ,head      - flow, head of node i\n",
      "    !  vx,vy           - x- and y-velocity components\n",
      "    ! use:\n",
      "    !  K,S,head,flow,vx,vy = libGROWAT2D.createFields2D(nx,ny)\n",
      "    ! notes:\n",
      "\n"
     ]
    }
   ],
   "source": [
    "help(libGROWAT2D.createFields2D)"
   ]
  },
  {
   "cell_type": "markdown",
   "id": "6ebfb0b4-bf4c-4e3e-bbc1-ba6584fb45f8",
   "metadata": {},
   "source": [
    "----\n",
    "## `createProperties2D()`\n",
    "\n",
    "This function sets the **material properties** for all nodes.\n",
    "\n",
    "- **Input**: The compact materials array `dataMAT`, the initialised fields `K` and `S`, the coordinates `X`, and the number of points `nx`\n",
    "- **Output**: The modified material property array `K` and `S`.\n",
    "\n",
    "**Notes:**\n",
    "- The first material property line is used as **standard material**, and all nodes are set to this material first.\n",
    "- Then other material areas a re-set."
   ]
  },
  {
   "cell_type": "code",
   "execution_count": 4,
   "id": "476435d1-6fa3-42db-bdc0-ea2c1ceabba2",
   "metadata": {
    "tags": []
   },
   "outputs": [
    {
     "name": "stdout",
     "output_type": "stream",
     "text": [
      "Help on function createProperties2D in module libGROWAT2D:\n",
      "\n",
      "createProperties2D(dataMAT, K, S, X, Y, nx, ny, control=False)\n",
      "    ! input:\n",
      "    !  dataMAT    - dictionary of materials\n",
      "    !  K,S        - hydraulic conductivity [m/s], specific storage [1/s]\n",
      "    !  X,Y        - x- and y-coordinate [m] of node i\n",
      "    !  nx,ny      - coordinate increments\n",
      "    ! output:\n",
      "    !  K,S        - hydraulic conductivity [m/s], specific storage [1/s]\n",
      "    ! use:\n",
      "    !  K,S = libGROWAT2D.createProperties2D(dataMAT,K,S,X,Y,nx,ny)\n",
      "    ! notes:\n",
      "\n"
     ]
    }
   ],
   "source": [
    "help(libGROWAT2D.createProperties2D)"
   ]
  },
  {
   "cell_type": "markdown",
   "id": "3cf833ba-c6a1-4115-973a-1e04f88c20b0",
   "metadata": {},
   "source": [
    "----"
   ]
  }
 ],
 "metadata": {
  "kernelspec": {
   "display_name": "Python 3 (ipykernel)",
   "language": "python",
   "name": "python3"
  },
  "language_info": {
   "codemirror_mode": {
    "name": "ipython",
    "version": 3
   },
   "file_extension": ".py",
   "mimetype": "text/x-python",
   "name": "python",
   "nbconvert_exporter": "python",
   "pygments_lexer": "ipython3",
   "version": "3.11.3"
  }
 },
 "nbformat": 4,
 "nbformat_minor": 5
}
