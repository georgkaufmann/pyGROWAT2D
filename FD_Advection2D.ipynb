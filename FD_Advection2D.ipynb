{
 "cells": [
  {
   "cell_type": "markdown",
   "id": "9766f78c",
   "metadata": {},
   "source": [
    "<table>\n",
    "<tr><td><img style=\"height: 150px;\" src=\"images/geo_hydro1.jpg\"></td>\n",
    "<td bgcolor=\"#FFFFFF\">\n",
    "    <p style=\"font-size: xx-large; font-weight: 900; line-height: 100%\">pyGROWAT2D</p>\n",
    "    <p style=\"font-size: large; color: rgba(0,0,0,0.5);\"><b style=color:red;>GRO</b>und<b style=color:red;>WAT</b>er</p>\n",
    "    <p style=\"font-size: large; color: rgba(0,0,0,0.5);\">Georg Kaufmann</p>\n",
    "    </td>\n",
    "<td><img style=\"height: 150px;\" src=\"images/pyGROWAT2D.png\"></td>\n",
    "</tr>\n",
    "</table>\n",
    "\n",
    "----\n",
    "# `pyGROWAT2D`\n",
    "\n",
    "GROundWATer2D, a program package for  flow in porous rocks."
   ]
  },
  {
   "cell_type": "markdown",
   "id": "fbfa38f3",
   "metadata": {},
   "source": [
    "# Finite differences \n",
    "## Advection equation in 2D\n",
    "----\n",
    "*Georg Kaufmann,\n",
    "Geophysics Section,\n",
    "Institute of Geological Sciences,\n",
    "Freie Universität Berlin,\n",
    "Germany*"
   ]
  },
  {
   "cell_type": "markdown",
   "id": "78d858ba",
   "metadata": {},
   "source": [
    "----\n",
    "In this notebook, we solve a simple **transient advection equation** in two dimensions,\n",
    "using different numerical methods."
   ]
  },
  {
   "cell_type": "code",
   "execution_count": 1,
   "id": "94ade1f7",
   "metadata": {},
   "outputs": [],
   "source": [
    "import numpy as np\n",
    "import matplotlib.pyplot as plt"
   ]
  },
  {
   "cell_type": "markdown",
   "id": "e61de775-e9d6-4cae-819a-45ef3230a15c",
   "metadata": {},
   "source": [
    "The general advection-diffusion-reacton equation reads:\n",
    "$$\\fbox{$\n",
    "\\frac{\\partial c}{\\partial t}\n",
    "= - v \\cdot \\nabla c\n",
    "+ \\nabla D \\nabla c\n",
    "+ R\n",
    "$}$$\n",
    "with\n",
    "$c$ [mol/m$^3$] concentration,\n",
    "$x,y,z$ [m] position,\n",
    "$t$ [s] time,\n",
    "$v$ [m/s] the velocity, \n",
    "$D$ [m$^2$/s] diffusion, \n",
    "$R$ [mol/m$^3$/s] reaction,\n",
    "$\\nabla$ [1/m] Nabla operator.\n",
    "\n",
    "The term on the left-hand side is the temporal change of $c$,\n",
    "the terms on the right-hand sides are\n",
    "- advection\n",
    "- diffusion\n",
    "- reaction"
   ]
  },
  {
   "cell_type": "markdown",
   "id": "d9b81bd9",
   "metadata": {},
   "source": [
    "----\n",
    "## Advection\n",
    "\n",
    "We start defining the transient advection equation in 2D for the concentration $c(x,y,t)$:\n",
    "$$\n",
    "\\fbox{$\n",
    "\\frac{\\partial c(x,y,t)}{\\partial t} + v_x \\frac{\\partial c(x,y,t)}{\\partial x} + v_y \\frac{\\partial c(x,y,t)}{\\partial y} = 0\n",
    "$}\n",
    "$$\n",
    "\n",
    "The transient advection equation is a **hyperbolic partial differential equation**, which has a unique\n",
    "solution for the **initial condition**:\n",
    "$$\n",
    "c(x,y,t=0) = c_0(x,y,0)\n",
    "$$"
   ]
  },
  {
   "cell_type": "markdown",
   "id": "0b5a14ee",
   "metadata": {},
   "source": [
    "----\n",
    "## Initial condition\n",
    "\n",
    "We define the `Gaussian` 2D function with $x$ and $y$ [m] as coordinates,\n",
    "means $\\mu_x,\\mu_y$ and standard deviations $\\sigma_x,\\sigma_y$\n",
    "as initial condition:\n",
    "$$\n",
    "c(x,y) = e^{-\\frac{(x-\\mu_x)^2}{2\\sigma_x^2}} e^{-\\frac{(y-\\mu_y)^2}{2\\sigma_y^2}}\n",
    "$$\n",
    "which is a solution of the transient advection equation."
   ]
  },
  {
   "cell_type": "code",
   "execution_count": 2,
   "id": "68ed28b0",
   "metadata": {},
   "outputs": [],
   "source": [
    "def pulse2D(x,y,mu=[0,0],sigma=[1,1]):\n",
    "    \"\"\"\n",
    "    Initial 2D pulse function centered at mu=(mu_x,mu_y) \n",
    "    and having standard with sigma (sigma_x,sigma_y)\n",
    "    \"\"\"\n",
    "    f = np.zeros([x.shape[0],y.shape[0]])\n",
    "    for i in range(x.shape[0]):\n",
    "        for j in range(y.shape[0]):\n",
    "            f[i,j] = np.exp(-(x[i]-mu[0])**2/(2*sigma[0])**2) #\n",
    "            f[i,j] *= np.exp(-(y[j]-mu[1])**2/(2*sigma[1])**2)\n",
    "    return f"
   ]
  },
  {
   "cell_type": "code",
   "execution_count": 3,
   "id": "d683871e",
   "metadata": {},
   "outputs": [
    {
     "name": "stdout",
     "output_type": "stream",
     "text": [
      "0.12 0.08\n"
     ]
    }
   ],
   "source": [
    "xstep = 101\n",
    "ystep = 51\n",
    "x,dx = np.linspace(-2,10,xstep,retstep=True)   # m\n",
    "y,dy = np.linspace(-2,2,ystep,retstep=True)   # m\n",
    "X,Y = np.meshgrid(x,y,indexing='ij')\n",
    "print(dx,dy)"
   ]
  },
  {
   "cell_type": "code",
   "execution_count": 4,
   "id": "31ec5eef",
   "metadata": {},
   "outputs": [
    {
     "data": {
      "image/png": "[encoded data removed]",
      "text/plain": [
       "<Figure size 1200x400 with 2 Axes>"
      ]
     },
     "metadata": {},
     "output_type": "display_data"
    }
   ],
   "source": [
    "c0 = pulse2D(x,y,mu=[2,0],sigma=[0.2,0.2])\n",
    "\n",
    "plt.figure(figsize=(12,4))\n",
    "plt.xlabel('x [m]')\n",
    "plt.ylabel('y [m]')\n",
    "plt.grid(alpha=0.3)\n",
    "bar1=plt.contourf(X,Y,c0,cmap='jet')\n",
    "label1=plt.colorbar(bar1)"
   ]
  },
  {
   "cell_type": "markdown",
   "id": "c611976d",
   "metadata": {},
   "source": [
    "----\n",
    "## Numerical solution methods\n",
    "\n",
    "Next, we derive several numerical methods, which can be used to solve the transient advection equation.\n",
    "We first need to assign the temporal and spatial time steps, $\\Delta t$ [s] and $\\Delta x$ [m], \n",
    "and the velocity $c$ [m/s]:"
   ]
  },
  {
   "cell_type": "markdown",
   "id": "cbcabffb",
   "metadata": {},
   "source": [
    "Thus we have discretised both spatial and temporal variables:\n",
    "$$\n",
    "\\begin{array}{rcl}\n",
    "t_n &=& t_0 + n \\Delta t, \\quad n=0,N \\\\\n",
    "x_i &=& x_0 + i \\Delta x, \\quad i=0,I \\\\\n",
    "y_j &=& y_0 + j \\Delta y, \\quad j=0,J\n",
    "\\end{array}\n",
    "$$"
   ]
  },
  {
   "cell_type": "markdown",
   "id": "d255e5ba",
   "metadata": {},
   "source": [
    "The **advective Courant-Friedrich-Levi criterion**, also called *advective Courant number*, is defined as\n",
    "$$\n",
    "Co^a = \\frac{v_x \\Delta t}{\\Delta x} + \\frac{v_y \\Delta t}{\\Delta y}\n",
    "$$\n",
    "It defines the stability of the numerical solutions. Explicit solutions are stable\n",
    "for $Co^a <1$.\n",
    "\n",
    "We solve for the time increment:\n",
    "$$\n",
    "\\Delta t^a < \\frac{1}{\\frac{v_x}{\\Delta x} + \\frac{v_y}{\\Delta y}}\n",
    "$$\n",
    "\n",
    "For a given velocity $v$, the time steps can  be defined:"
   ]
  },
  {
   "cell_type": "code",
   "execution_count": 10,
   "id": "ba0ccdce",
   "metadata": {},
   "outputs": [
    {
     "name": "stdout",
     "output_type": "stream",
     "text": [
      "Courant time step:  0.24\n",
      "Courant time step with safety margin:  0.048\n"
     ]
    }
   ],
   "source": [
    "vx,vy = 0.5,0.0 # m/s\n",
    "if (vx==0 and vy==0):\n",
    "    dtAdv = np.nan\n",
    "else:\n",
    "    dtAdv = 1 / (vx/dx + vy/dy)\n",
    "               \n",
    "print ('Courant time step: ',dtAdv)\n",
    "safety = 0.2\n",
    "dtAdv *= safety\n",
    "print ('Courant time step with safety margin: ',dtAdv)"
   ]
  },
  {
   "cell_type": "code",
   "execution_count": 11,
   "id": "b210f4c5",
   "metadata": {},
   "outputs": [],
   "source": [
    "timeStart = 0.\n",
    "timeEnd   = 5.\n",
    "timeStep  = dtAdv\n",
    "timeWrite = 1."
   ]
  },
  {
   "cell_type": "markdown",
   "id": "a61befd5",
   "metadata": {},
   "source": [
    "----\n",
    "## FTCS scheme (forward time centered space)\n",
    "\n",
    "Our first scheme is called `FTCS`, forward time, centered space, thus the derivatives in the\n",
    "transient advection equations are replaced by **forward differences in time** and \n",
    "**central differences is space**:\n",
    "$$\n",
    "\\frac{c_{{i,j}}^{n+1}-c_{{i,j}}^{n}}{\\Delta t}\n",
    "=\n",
    "-v_x \\frac{c_{{i+1,j}}^{n}-c_{{i-1,j}}^{n}}{2 \\Delta x}\n",
    "-v_y \\frac{c_{{i,j+1}}^{n}-c_{{i,j-1}}^{n}}{2 \\Delta y}\n",
    "$$\n",
    "or solved for the next time step\n",
    "$$\n",
    "c_{{i,j}}^{n+1}\n",
    "=\n",
    "c_{{i,j}}^{n} \n",
    "- \\frac{v_x \\Delta t}{2 \\Delta x} \\left( c_{{i+1,j}}^{n}-c_{{i-1,j}}^{n} \\right)\n",
    "- \\frac{v_y \\Delta t}{2 \\Delta y} \\left( c_{{i,j+1}}^{n}-c_{{i,j-1}}^{n} \\right)\n",
    "$$\n",
    "\n",
    "<img src=\"images/PDE_FTCS.jpg\" style=\"height:5cm;\">\n",
    "\n",
    "We implement the FTCS method:"
   ]
  },
  {
   "cell_type": "code",
   "execution_count": 12,
   "id": "3cb292a7-55f1-4f96-98f8-b8507281d285",
   "metadata": {
    "tags": []
   },
   "outputs": [],
   "source": [
    "def FD_Advection1D(c,dx,dy,dt,vx,vy):\n",
    "    \"\"\"\n",
    "    2D advection operator\n",
    "    FTCS forward time centered space\n",
    "    \"\"\"\n",
    "    nx = c.shape[0]\n",
    "    ny = c.shape[1]\n",
    "    cold = c\n",
    "    for i in range(nx):\n",
    "        for j in range(ny):\n",
    "            if (i != 0 and i != nx-1 and j != 0 and j != ny-1):\n",
    "                c[i,j] = cold[i,j] - vx*dt/(2*dx) * (cold[i+1,j]-cold[i-1,j]) - vy*dt/(2*dy) * (cold[i,j+1]-cold[i,j-1])\n",
    "            else:\n",
    "                c[i,j] = cold[i,j]\n",
    "    return c"
   ]
  },
  {
   "cell_type": "code",
   "execution_count": 13,
   "id": "41e6df5c-21c8-413d-b2bd-94406589a866",
   "metadata": {
    "tags": []
   },
   "outputs": [],
   "source": [
    "# initial conditions\n",
    "time = timeStart\n",
    "c    = pulse2D(x,y,mu=[2,0],sigma=[0.2,0.2])\n",
    "c0  = np.copy(c)\n",
    "\n",
    "# time loop\n",
    "while (time < timeEnd):\n",
    "    time += timeStep\n",
    "    c = FD_Advection1D(c,dx,dy,timeStep,vx,vy)"
   ]
  },
  {
   "cell_type": "code",
   "execution_count": 14,
   "id": "1d7f8ca8-6161-443d-a517-ed0e2d541705",
   "metadata": {
    "tags": []
   },
   "outputs": [
    {
     "name": "stderr",
     "output_type": "stream",
     "text": [
      "/var/folders/g1/lkn34rdd3158l1w_kz2l0dt80000gn/T/ipykernel_3619/2830234226.py:8: UserWarning: The following kwargs were not used by contour: 'lw', 'ls', 'color'\n",
      "  plt.contour(X,Y,c0,lw=1,ls='dashed',color=(0.5,0.5,0.5),alpha=0.5)\n"
     ]
    },
    {
     "data": {
      "text/plain": [
       "<matplotlib.contour.QuadContourSet at 0x11cea03d0>"
      ]
     },
     "execution_count": 14,
     "metadata": {},
     "output_type": "execute_result"
    },
    {
     "data": {
      "image/png": "[encoded data removed]",
      "text/plain": [
       "<Figure size 1200x400 with 2 Axes>"
      ]
     },
     "metadata": {},
     "output_type": "display_data"
    }
   ],
   "source": [
    "plt.figure(figsize=(12,4))\n",
    "plt.title('FTCS advection')\n",
    "plt.xlabel('x [m]')\n",
    "plt.ylabel('y [m]')\n",
    "plt.grid(alpha=0.3)\n",
    "bar1=plt.contourf(X,Y,c,cmap='jet')\n",
    "label1=plt.colorbar(bar1)\n",
    "plt.contour(X,Y,c0,lw=1,ls='dashed',color=(0.5,0.5,0.5),alpha=0.5)"
   ]
  },
  {
   "cell_type": "markdown",
   "id": "0e8bddcc-c4d2-4de2-b9cb-c6c6e57232d5",
   "metadata": {},
   "source": [
    "Try this example with the **rectangular pulse** of `pulse()` to observe how instable this method can become ..."
   ]
  },
  {
   "cell_type": "markdown",
   "id": "107c7614",
   "metadata": {},
   "source": [
    "----"
   ]
  }
 ],
 "metadata": {
  "kernelspec": {
   "display_name": "Python 3 (ipykernel)",
   "language": "python",
   "name": "python3"
  },
  "language_info": {
   "codemirror_mode": {
    "name": "ipython",
    "version": 3
   },
   "file_extension": ".py",
   "mimetype": "text/x-python",
   "name": "python",
   "nbconvert_exporter": "python",
   "pygments_lexer": "ipython3",
   "version": "3.11.3"
  }
 },
 "nbformat": 4,
 "nbformat_minor": 5
}
